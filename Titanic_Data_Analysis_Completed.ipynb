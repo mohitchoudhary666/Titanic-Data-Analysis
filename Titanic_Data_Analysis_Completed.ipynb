{
 "cells": [
  {
   "cell_type": "markdown",
   "id": "6defb0bc",
   "metadata": {},
   "source": [
    "# 🧭 Step 1: Import Libraries"
   ]
  },
  {
   "cell_type": "code",
   "execution_count": null,
   "id": "bc7dbd8c",
   "metadata": {},
   "outputs": [],
   "source": [
    "import pandas as pd\n",
    "import numpy as np\n",
    "import seaborn as sns\n",
    "import matplotlib.pyplot as plt\n",
    "\n",
    "sns.set(style=\"whitegrid\")"
   ]
  },
  {
   "cell_type": "markdown",
   "id": "af1f2887",
   "metadata": {},
   "source": [
    "# 🧩 Step 2: Load Dataset"
   ]
  },
  {
   "cell_type": "code",
   "execution_count": null,
   "id": "26cb8baa",
   "metadata": {},
   "outputs": [],
   "source": [
    "df = sns.load_dataset('titanic')\n",
    "df.head()"
   ]
  },
  {
   "cell_type": "markdown",
   "id": "6c22f8fc",
   "metadata": {},
   "source": [
    "# 🔍 Step 3: Explore Dataset"
   ]
  },
  {
   "cell_type": "code",
   "execution_count": null,
   "id": "c0c24bf8",
   "metadata": {},
   "outputs": [],
   "source": [
    "df.info()\n",
    "df.describe(include='all')"
   ]
  },
  {
   "cell_type": "markdown",
   "id": "7f5f5941",
   "metadata": {},
   "source": [
    "# 🧹 Step 4: Data Cleaning"
   ]
  },
  {
   "cell_type": "code",
   "execution_count": null,
   "id": "c2f6d895",
   "metadata": {},
   "outputs": [],
   "source": [
    "df = df.copy()\n",
    "\n",
    "# Fill missing values\n",
    "df['age'] = df['age'].fillna(df['age'].median())\n",
    "df['embarked'] = df['embarked'].fillna(df['embarked'].mode()[0])\n",
    "df['embark_town'] = df['embark_town'].fillna(df['embark_town'].mode()[0])\n",
    "\n",
    "# Drop unnecessary columns\n",
    "df = df.drop(['deck'], axis=1)\n",
    "\n",
    "# Drop duplicates\n",
    "df = df.drop_duplicates()\n",
    "\n",
    "# Confirm clean data\n",
    "df.info()"
   ]
  },
  {
   "cell_type": "markdown",
   "id": "42eb7a99",
   "metadata": {},
   "source": [
    "# 📊 Step 5: Univariate Analysis"
   ]
  },
  {
   "cell_type": "code",
   "execution_count": null,
   "id": "a9703056",
   "metadata": {},
   "outputs": [],
   "source": [
    "sns.countplot(x='survived', data=df)\n",
    "plt.title(\"Survival Count (0 = Died, 1 = Survived)\")\n",
    "plt.show()\n",
    "\n",
    "sns.histplot(df['age'], kde=True)\n",
    "plt.title(\"Age Distribution of Passengers\")\n",
    "plt.show()"
   ]
  },
  {
   "cell_type": "markdown",
   "id": "c59910f3",
   "metadata": {},
   "source": [
    "# 🎯 Step 6: Bivariate Analysis"
   ]
  },
  {
   "cell_type": "code",
   "execution_count": null,
   "id": "c715eab2",
   "metadata": {},
   "outputs": [],
   "source": [
    "sns.countplot(x='sex', hue='survived', data=df)\n",
    "plt.title(\"Survival by Gender\")\n",
    "plt.show()\n",
    "\n",
    "sns.countplot(x='class', hue='survived', data=df)\n",
    "plt.title(\"Survival by Class\")\n",
    "plt.show()\n",
    "\n",
    "sns.boxplot(x='survived', y='age', data=df)\n",
    "plt.title(\"Age vs Survival\")\n",
    "plt.show()"
   ]
  },
  {
   "cell_type": "markdown",
   "id": "061f280e",
   "metadata": {},
   "source": [
    "# 🌍 Step 7: Multivariate Analysis"
   ]
  },
  {
   "cell_type": "code",
   "execution_count": null,
   "id": "88c55a79",
   "metadata": {},
   "outputs": [],
   "source": [
    "sns.catplot(x='class', hue='sex', col='survived', data=df, kind='count')"
   ]
  },
  {
   "cell_type": "markdown",
   "id": "957d0c31",
   "metadata": {},
   "source": [
    "# 📈 Step 8: Correlation Heatmap"
   ]
  },
  {
   "cell_type": "code",
   "execution_count": null,
   "id": "b95184a2",
   "metadata": {},
   "outputs": [],
   "source": [
    "sns.heatmap(df.corr(numeric_only=True), annot=True, cmap='coolwarm')\n",
    "plt.title(\"Correlation Heatmap\")\n",
    "plt.show()"
   ]
  },
  {
   "cell_type": "markdown",
   "id": "ca7549a4",
   "metadata": {},
   "source": [
    "# 🧾 Step 9: Save Cleaned Dataset"
   ]
  },
  {
   "cell_type": "code",
   "execution_count": null,
   "id": "36423a82",
   "metadata": {},
   "outputs": [],
   "source": [
    "df.to_csv(\"clean_titanic.csv\", index=False)"
   ]
  },
  {
   "cell_type": "markdown",
   "id": "b7442632",
   "metadata": {},
   "source": [
    "# 💡 Insights"
   ]
  },
  {
   "cell_type": "code",
   "execution_count": null,
   "id": "52acc978",
   "metadata": {},
   "outputs": [],
   "source": [
    "# Insights Summary:\n",
    "# 1. Most passengers were from Third Class.\n",
    "# 2. Females had a much higher survival rate than males.\n",
    "# 3. Higher-class passengers paid higher fares and had better survival chances.\n",
    "# 4. Median age ≈ 29 years; younger passengers had better survival chances.\n",
    "# 5. Data is now fully cleaned and ready for ML or dashboarding."
   ]
  }
 ],
 "metadata": {},
 "nbformat": 4,
 "nbformat_minor": 5
}
